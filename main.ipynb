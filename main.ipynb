{
 "cells": [
  {
   "cell_type": "code",
   "execution_count": 8,
   "id": "5039a2be",
   "metadata": {},
   "outputs": [],
   "source": [
    "import pandas as pd\n",
    "import numpy as np\n",
    "import matplotlib.pyplot as plt\n",
    "from sklearn.model_selection import train_test_split"
   ]
  },
  {
   "cell_type": "code",
   "execution_count": 9,
   "id": "669159f0",
   "metadata": {},
   "outputs": [
    {
     "name": "stdout",
     "output_type": "stream",
     "text": [
      "<class 'pandas.core.frame.DataFrame'>\n",
      "RangeIndex: 768 entries, 0 to 767\n",
      "Data columns (total 9 columns):\n",
      " #   Column                    Non-Null Count  Dtype  \n",
      "---  ------                    --------------  -----  \n",
      " 0   Pregnancies               768 non-null    int64  \n",
      " 1   Glucose                   768 non-null    int64  \n",
      " 2   BloodPressure             768 non-null    int64  \n",
      " 3   SkinThickness             768 non-null    int64  \n",
      " 4   Insulin                   768 non-null    int64  \n",
      " 5   BMI                       768 non-null    float64\n",
      " 6   DiabetesPedigreeFunction  768 non-null    float64\n",
      " 7   Age                       768 non-null    int64  \n",
      " 8   Outcome                   768 non-null    int64  \n",
      "dtypes: float64(2), int64(7)\n",
      "memory usage: 54.1 KB\n"
     ]
    }
   ],
   "source": [
    "#Read the csv file\n",
    "data_frame = pd.read_csv(\"diabetes.csv\")\n",
    "data_frame.info()"
   ]
  },
  {
   "cell_type": "code",
   "execution_count": 10,
   "id": "dfa3ed46",
   "metadata": {},
   "outputs": [],
   "source": [
    "#Splitting the data into X and Y\n",
    "X = data_frame.drop(\"Outcome\", axis=1)\n",
    "Y = data_frame.Outcome"
   ]
  },
  {
   "cell_type": "code",
   "execution_count": 11,
   "id": "f20ec15f",
   "metadata": {},
   "outputs": [],
   "source": [
    "#Splitting the data into Train, Validate and Split\n",
    "#Train= 60%\n",
    "#Validate= 20%\n",
    "#Test = 20%\n",
    "X_train, X_remaining, Y_train, Y_remaining = train_test_split(X, Y, train_size=0.6, random_state=50)\n",
    "X_validate, X_test, Y_validate, Y_test = train_test_split(X_remaining,Y_remaining,train_size=0.5,random_state=50)"
   ]
  },
  {
   "cell_type": "code",
   "execution_count": 12,
   "id": "cac49220",
   "metadata": {},
   "outputs": [],
   "source": [
    "#Convert train, test and validate data to nd.arrays to remove column headings and then reshape\n",
    "X_train = X_train.values\n",
    "X_test = X_test.values\n",
    "Y_train= Y_train.values\n",
    "Y_test= Y_test.values\n",
    "Y_validate= Y_validate.values\n",
    "X_validate= X_validate.values\n"
   ]
  },
  {
   "cell_type": "code",
   "execution_count": 13,
   "id": "9d887d4c",
   "metadata": {},
   "outputs": [
    {
     "name": "stdout",
     "output_type": "stream",
     "text": [
      "(1, 8)\n",
      "(1, 8)\n"
     ]
    }
   ],
   "source": [
    "#Normalise the data using Preprocessing Normalisation in Pandas\n",
    "#Use the mean and Std approach for Normalising the data\n",
    "X_train_mean = np.array(np.mean(X_train, axis=0))\n",
    "X_train_mean = X_train_mean.reshape(1, X_train.shape[1])\n",
    "print(X_train_mean.shape)\n",
    "\n",
    "X_train_std = np.array(np.std(X_train, axis = 0)).reshape(1, X_train.shape[1])\n",
    "print(X_train_std.shape)\n"
   ]
  },
  {
   "cell_type": "code",
   "execution_count": 14,
   "id": "74c46a40",
   "metadata": {},
   "outputs": [],
   "source": [
    "X_train = (X_train - X_train_mean)/X_train_std\n",
    "X_test = (X_test - X_train_mean)/X_train_std\n",
    "X_validate = (X_validate - X_train_mean)/X_train_std"
   ]
  },
  {
   "cell_type": "code",
   "execution_count": 15,
   "id": "35c66163",
   "metadata": {},
   "outputs": [
    {
     "name": "stdout",
     "output_type": "stream",
     "text": [
      "(8, 460)\n",
      "(1, 460)\n",
      "(8, 154)\n",
      "(1, 154)\n",
      "(8, 154)\n",
      "(1, 154)\n"
     ]
    }
   ],
   "source": [
    "#Reshape the data so that we can do dot product in the cost function\n",
    "X_train = X_train.T\n",
    "Y_train = Y_train.reshape(1, X_train.shape[1])\n",
    "\n",
    "X_test = X_test.T\n",
    "Y_test = Y_test.reshape(1, X_test.shape[1])\n",
    "\n",
    "X_validate = X_validate.T\n",
    "Y_validate = Y_validate.reshape(1, X_validate.shape[1])\n",
    "\n",
    "print(X_train.shape)\n",
    "print(Y_train.shape)\n",
    "print(X_test.shape)\n",
    "print(Y_test.shape)\n",
    "print(X_validate.shape)\n",
    "print(Y_validate.shape)"
   ]
  },
  {
   "cell_type": "code",
   "execution_count": 16,
   "id": "bc5904d3",
   "metadata": {},
   "outputs": [],
   "source": [
    "#Defining the sigmoid function\n",
    "def sigmoid(z):\n",
    "    return 1/(1+np.exp(-z))"
   ]
  },
  {
   "cell_type": "code",
   "execution_count": 17,
   "id": "570bb201",
   "metadata": {},
   "outputs": [],
   "source": [
    "#Cost function\n",
    "def cost_func(m, Y, A):\n",
    "    return -(1/m)*np.sum( Y*np.log(A) + (1-Y)*np.log(1-A))"
   ]
  },
  {
   "cell_type": "code",
   "execution_count": 18,
   "id": "4fe96d5f",
   "metadata": {},
   "outputs": [],
   "source": [
    "#Gradient descent function \n",
    "def gradient_descent(m, Y, X, A):\n",
    "    dW = (1/m)*np.dot(A-Y, X.T)\n",
    "    dB = (1/m)*np.sum(A - Y)\n",
    "    return dW, dB"
   ]
  },
  {
   "cell_type": "code",
   "execution_count": 34,
   "id": "549aa769",
   "metadata": {},
   "outputs": [],
   "source": [
    "# Z function\n",
    "def z_function(weights, X, bias):\n",
    "    return np.dot(weights.T, X) + bias\n",
    "    "
   ]
  },
  {
   "cell_type": "code",
   "execution_count": 35,
   "id": "0f6dc1f4",
   "metadata": {},
   "outputs": [],
   "source": [
    "def logistic_regression(X, Y, alpha, epoch):\n",
    "    \n",
    "    m = X.shape[1]\n",
    "    n = X.shape[0]\n",
    "    \n",
    "    #Initialising weights with 0\n",
    "    weights = np.zeros((n,1))\n",
    "    bias = 0\n",
    "    loss_vectors = []\n",
    "    \n",
    "    for i in range(epoch):\n",
    "        \n",
    "        Z = z_function(weights, X, bias)\n",
    "        activation = sigmoid(Z)        \n",
    "        # cost function\n",
    "        cost = cost_func(m, Y, activation)\n",
    "        \n",
    "        # Gradient Descent\n",
    "        dW, dB = gradient_descent(m, Y,X, activation)\n",
    "        \n",
    "        weights = weights - alpha*dW.T\n",
    "        bias = bias - alpha*dB\n",
    "        \n",
    "        # Keeping track of our cost function value\n",
    "        loss_vectors.append(cost)\n",
    "        \n",
    "        if(i%(epoch/100) == 0):\n",
    "            print(\"iteration: \",i, \": Cost:\", cost)\n",
    "        \n",
    "    return weights, bias, loss_vectors"
   ]
  },
  {
   "cell_type": "code",
   "execution_count": 36,
   "id": "f25a582f",
   "metadata": {},
   "outputs": [],
   "source": [
    "epoch = 100000\n",
    "alpha = 0.0005"
   ]
  },
  {
   "cell_type": "code",
   "execution_count": 37,
   "id": "342419df",
   "metadata": {},
   "outputs": [
    {
     "name": "stdout",
     "output_type": "stream",
     "text": [
      "iteration:  0 : Cost: 0.6931471805599452\n",
      "iteration:  1000 : Cost: 0.6384973178832423\n",
      "iteration:  2000 : Cost: 0.6008484588913128\n",
      "iteration:  3000 : Cost: 0.5739088239479756\n",
      "iteration:  4000 : Cost: 0.5539105539163024\n",
      "iteration:  5000 : Cost: 0.5385862424434839\n",
      "iteration:  6000 : Cost: 0.5265303249456788\n",
      "iteration:  7000 : Cost: 0.5168391323957735\n",
      "iteration:  8000 : Cost: 0.5089102451355082\n",
      "iteration:  9000 : Cost: 0.5023283822981706\n",
      "iteration:  10000 : Cost: 0.4967985197075398\n",
      "iteration:  11000 : Cost: 0.4921054011225183\n",
      "iteration:  12000 : Cost: 0.48808824237752907\n",
      "iteration:  13000 : Cost: 0.4846244518719949\n",
      "iteration:  14000 : Cost: 0.4816188617875991\n",
      "iteration:  15000 : Cost: 0.4789964220628894\n",
      "iteration:  16000 : Cost: 0.4766971271501871\n",
      "iteration:  17000 : Cost: 0.47467241738555105\n",
      "iteration:  18000 : Cost: 0.4728825761389688\n",
      "iteration:  19000 : Cost: 0.47129481340688506\n",
      "iteration:  20000 : Cost: 0.46988183174247494\n",
      "iteration:  21000 : Cost: 0.4686207371701533\n",
      "iteration:  22000 : Cost: 0.46749220092951393\n",
      "iteration:  23000 : Cost: 0.4664798063809678\n",
      "iteration:  24000 : Cost: 0.46556953452593475\n",
      "iteration:  25000 : Cost: 0.46474935464376055\n",
      "iteration:  26000 : Cost: 0.46400889559443687\n",
      "iteration:  27000 : Cost: 0.4633391797020737\n",
      "iteration:  28000 : Cost: 0.4627324056766733\n",
      "iteration:  29000 : Cost: 0.4621817703164182\n",
      "iteration:  30000 : Cost: 0.4616813211375679\n",
      "iteration:  31000 : Cost: 0.46122583386053206\n",
      "iteration:  32000 : Cost: 0.4608107100149834\n",
      "iteration:  33000 : Cost: 0.46043189093656783\n",
      "iteration:  34000 : Cost: 0.46008578519925114\n",
      "iteration:  35000 : Cost: 0.4597692071221255\n",
      "iteration:  36000 : Cost: 0.4594793244519299\n",
      "iteration:  37000 : Cost: 0.4592136136848831\n",
      "iteration:  38000 : Cost: 0.45896982177743134\n",
      "iteration:  39000 : Cost: 0.45874593322278756\n",
      "iteration:  40000 : Cost: 0.4585401416519012\n",
      "iteration:  41000 : Cost: 0.4583508252637069\n",
      "iteration:  42000 : Cost: 0.4581765255077805\n",
      "iteration:  43000 : Cost: 0.4580159285386884\n",
      "iteration:  44000 : Cost: 0.4578678490398895\n",
      "iteration:  45000 : Cost: 0.4577312160795292\n",
      "iteration:  46000 : Cost: 0.4576050607136206\n",
      "iteration:  47000 : Cost: 0.4574885050960873\n",
      "iteration:  48000 : Cost: 0.457380752891692\n",
      "iteration:  49000 : Cost: 0.45728108081833724\n",
      "iteration:  50000 : Cost: 0.45718883117071474\n",
      "iteration:  51000 : Cost: 0.45710340519867704\n",
      "iteration:  52000 : Cost: 0.45702425723171974\n",
      "iteration:  53000 : Cost: 0.45695088945617374\n",
      "iteration:  54000 : Cost: 0.45688284726459655\n",
      "iteration:  55000 : Cost: 0.4568197151077916\n",
      "iteration:  56000 : Cost: 0.45676111278920517\n",
      "iteration:  57000 : Cost: 0.4567066921494036\n",
      "iteration:  58000 : Cost: 0.45665613409514494\n",
      "iteration:  59000 : Cost: 0.45660914593339247\n",
      "iteration:  60000 : Cost: 0.4565654589756486\n",
      "iteration:  61000 : Cost: 0.4565248263823039\n",
      "iteration:  62000 : Cost: 0.4564870212204398\n",
      "iteration:  63000 : Cost: 0.45645183471175477\n",
      "iteration:  64000 : Cost: 0.45641907465008424\n",
      "iteration:  65000 : Cost: 0.4563885639704261\n",
      "iteration:  66000 : Cost: 0.45636013945349807\n",
      "iteration:  67000 : Cost: 0.45633365055170555\n",
      "iteration:  68000 : Cost: 0.4563089583240133\n",
      "iteration:  69000 : Cost: 0.45628593446862686\n",
      "iteration:  70000 : Cost: 0.4562644604436303\n",
      "iteration:  71000 : Cost: 0.4562444266668133\n",
      "iteration:  72000 : Cost: 0.45622573178688114\n",
      "iteration:  73000 : Cost: 0.4562082820190779\n",
      "iteration:  74000 : Cost: 0.45619199053900644\n",
      "iteration:  75000 : Cost: 0.4561767769290747\n",
      "iteration:  76000 : Cost: 0.45616256667259064\n",
      "iteration:  77000 : Cost: 0.4561492906910342\n",
      "iteration:  78000 : Cost: 0.45613688492049875\n",
      "iteration:  79000 : Cost: 0.4561252899236946\n",
      "iteration:  80000 : Cost: 0.45611445053427646\n",
      "iteration:  81000 : Cost: 0.4561043155305701\n",
      "iteration:  82000 : Cost: 0.45609483733606687\n",
      "iteration:  83000 : Cost: 0.4560859717443086\n",
      "iteration:  84000 : Cost: 0.45607767766601676\n",
      "iteration:  85000 : Cost: 0.4560699168965211\n",
      "iteration:  86000 : Cost: 0.45606265390173273\n",
      "iteration:  87000 : Cost: 0.4560558556210652\n",
      "iteration:  88000 : Cost: 0.4560494912858618\n",
      "iteration:  89000 : Cost: 0.45604353225201516\n",
      "iteration:  90000 : Cost: 0.45603795184558954\n",
      "iteration:  91000 : Cost: 0.4560327252203599\n",
      "iteration:  92000 : Cost: 0.4560278292262844\n",
      "iteration:  93000 : Cost: 0.4560232422880096\n",
      "iteration:  94000 : Cost: 0.4560189442925925\n",
      "iteration:  95000 : Cost: 0.4560149164856896\n",
      "iteration:  96000 : Cost: 0.45601114137553483\n",
      "iteration:  97000 : Cost: 0.4560076026440804\n",
      "iteration:  98000 : Cost: 0.45600428506473345\n",
      "iteration:  99000 : Cost: 0.45600117442616717\n"
     ]
    }
   ],
   "source": [
    "weights_train, bias_train, cost_train = logistic_regression(X_train, Y_train, alpha = alpha, epoch = epoch)"
   ]
  },
  {
   "cell_type": "code",
   "execution_count": 38,
   "id": "125ef875",
   "metadata": {},
   "outputs": [
    {
     "data": {
      "image/png": "[encoded data removed]",
      "text/plain": [
       "<Figure size 432x288 with 1 Axes>"
      ]
     },
     "metadata": {
      "needs_background": "light"
     },
     "output_type": "display_data"
    }
   ],
   "source": [
    "plt.plot(np.arange(epoch), cost_train)\n",
    "plt.show()"
   ]
  },
  {
   "cell_type": "code",
   "execution_count": 39,
   "id": "2cbd15cb",
   "metadata": {},
   "outputs": [
    {
     "name": "stdout",
     "output_type": "stream",
     "text": [
      "iteration:  0 : Cost: 0.6931471805599454\n",
      "iteration:  1000 : Cost: 0.6386765713775915\n",
      "iteration:  2000 : Cost: 0.6017706617471729\n",
      "iteration:  3000 : Cost: 0.5759756526539288\n",
      "iteration:  4000 : Cost: 0.5573319854676496\n",
      "iteration:  5000 : Cost: 0.5434217692006352\n",
      "iteration:  6000 : Cost: 0.5327404154130361\n",
      "iteration:  7000 : Cost: 0.5243261642318177\n",
      "iteration:  8000 : Cost: 0.5175466522818907\n",
      "iteration:  9000 : Cost: 0.5119747353273252\n",
      "iteration:  10000 : Cost: 0.5073146293052648\n",
      "iteration:  11000 : Cost: 0.5033568304813749\n",
      "iteration:  12000 : Cost: 0.49994987385261835\n",
      "iteration:  13000 : Cost: 0.4969821947137511\n",
      "iteration:  14000 : Cost: 0.49437020656792\n",
      "iteration:  15000 : Cost: 0.4920502967709456\n",
      "iteration:  16000 : Cost: 0.48997334726272357\n",
      "iteration:  17000 : Cost: 0.48810091690011226\n",
      "iteration:  18000 : Cost: 0.4864025382509377\n",
      "iteration:  19000 : Cost: 0.4848537750799612\n",
      "iteration:  20000 : Cost: 0.48343480746386863\n",
      "iteration:  21000 : Cost: 0.4821293883131899\n",
      "iteration:  22000 : Cost: 0.4809240648987917\n",
      "iteration:  23000 : Cost: 0.47980759183574195\n",
      "iteration:  24000 : Cost: 0.4787704839901785\n",
      "iteration:  25000 : Cost: 0.4778046727416851\n",
      "iteration:  26000 : Cost: 0.47690323934977213\n",
      "iteration:  27000 : Cost: 0.47606020637435154\n",
      "iteration:  28000 : Cost: 0.4752703731866798\n",
      "iteration:  29000 : Cost: 0.47452918523977705\n",
      "iteration:  30000 : Cost: 0.4738326293880816\n",
      "iteration:  31000 : Cost: 0.4731771494549792\n",
      "iteration:  32000 : Cost: 0.4725595776496218\n",
      "iteration:  33000 : Cost: 0.4719770784738958\n",
      "iteration:  34000 : Cost: 0.47142710253663467\n",
      "iteration:  35000 : Cost: 0.47090734827609554\n",
      "iteration:  36000 : Cost: 0.47041573003399484\n",
      "iteration:  37000 : Cost: 0.4699503512615815\n",
      "iteration:  38000 : Cost: 0.4695094818968623\n",
      "iteration:  39000 : Cost: 0.46909153915164487\n",
      "iteration:  40000 : Cost: 0.4686950711019032\n",
      "iteration:  41000 : Cost: 0.46831874259573364\n",
      "iteration:  42000 : Cost: 0.4679613230878838\n",
      "iteration:  43000 : Cost: 0.46762167608444755\n",
      "iteration:  44000 : Cost: 0.4672987499404162\n",
      "iteration:  45000 : Cost: 0.4669915697997891\n",
      "iteration:  46000 : Cost: 0.4666992305055205\n",
      "iteration:  47000 : Cost: 0.466420890336756\n",
      "iteration:  48000 : Cost: 0.46615576545514587\n",
      "iteration:  49000 : Cost: 0.4659031249617384\n",
      "iteration:  50000 : Cost: 0.4656622864820003\n",
      "iteration:  51000 : Cost: 0.4654326122096218\n",
      "iteration:  52000 : Cost: 0.46521350535052686\n",
      "iteration:  53000 : Cost: 0.465004406917377\n",
      "iteration:  54000 : Cost: 0.4648047928322041\n",
      "iteration:  55000 : Cost: 0.46461417130091087\n",
      "iteration:  56000 : Cost: 0.4644320804284748\n",
      "iteration:  57000 : Cost: 0.46425808604795965\n",
      "iteration:  58000 : Cost: 0.46409177974004484\n",
      "iteration:  59000 : Cost: 0.4639327770228054\n",
      "iteration:  60000 : Cost: 0.4637807156940709\n",
      "iteration:  61000 : Cost: 0.46363525431087527\n",
      "iteration:  62000 : Cost: 0.46349607079239236\n",
      "iteration:  63000 : Cost: 0.46336286113436437\n",
      "iteration:  64000 : Cost: 0.4632353382244147\n",
      "iteration:  65000 : Cost: 0.46311323074884037\n",
      "iteration:  66000 : Cost: 0.4629962821825182\n",
      "iteration:  67000 : Cost: 0.4628842498544633\n",
      "iteration:  68000 : Cost: 0.4627769040823743\n",
      "iteration:  69000 : Cost: 0.4626740273701845\n",
      "iteration:  70000 : Cost: 0.46257541366325505\n",
      "iteration:  71000 : Cost: 0.46248086765637614\n",
      "iteration:  72000 : Cost: 0.4623902041502182\n",
      "iteration:  73000 : Cost: 0.4623032474522945\n",
      "iteration:  74000 : Cost: 0.4622198308188691\n",
      "iteration:  75000 : Cost: 0.46213979593457405\n",
      "iteration:  76000 : Cost: 0.4620629924267986\n",
      "iteration:  77000 : Cost: 0.4619892774121737\n",
      "iteration:  78000 : Cost: 0.4619185150727172\n",
      "iteration:  79000 : Cost: 0.46185057625941145\n",
      "iteration:  80000 : Cost: 0.461785338121183\n",
      "iteration:  81000 : Cost: 0.4617226837574233\n",
      "iteration:  82000 : Cost: 0.46166250189234315\n",
      "iteration:  83000 : Cost: 0.46160468656960013\n",
      "iteration:  84000 : Cost: 0.4615491368657602\n",
      "iteration:  85000 : Cost: 0.4614957566212739\n",
      "iteration:  86000 : Cost: 0.4614444541877509\n",
      "iteration:  87000 : Cost: 0.4613951421904132\n",
      "iteration:  88000 : Cost: 0.4613477373046948\n",
      "iteration:  89000 : Cost: 0.4613021600460331\n",
      "iteration:  90000 : Cost: 0.4612583345719728\n",
      "iteration:  91000 : Cost: 0.4612161884957666\n",
      "iteration:  92000 : Cost: 0.46117565271071964\n",
      "iteration:  93000 : Cost: 0.4611366612245788\n",
      "iteration:  94000 : Cost: 0.46109915100332133\n",
      "iteration:  95000 : Cost: 0.46106306182374046\n",
      "iteration:  96000 : Cost: 0.4610283361342724\n",
      "iteration:  97000 : Cost: 0.4609949189235456\n",
      "iteration:  98000 : Cost: 0.4609627575961726\n",
      "iteration:  99000 : Cost: 0.46093180185533594\n"
     ]
    }
   ],
   "source": [
    "weights_test, bias_test, cost_test = logistic_regression(X_test, Y_test, alpha = alpha, epoch = epoch)"
   ]
  },
  {
   "cell_type": "code",
   "execution_count": 40,
   "id": "db467ae8",
   "metadata": {},
   "outputs": [
    {
     "data": {
      "image/png": "[encoded data removed]",
      "text/plain": [
       "<Figure size 432x288 with 1 Axes>"
      ]
     },
     "metadata": {
      "needs_background": "light"
     },
     "output_type": "display_data"
    }
   ],
   "source": [
    "plt.plot(np.arange(epoch), cost_test)\n",
    "plt.show()"
   ]
  },
  {
   "cell_type": "code",
   "execution_count": 41,
   "id": "ef8b22f6",
   "metadata": {},
   "outputs": [
    {
     "name": "stdout",
     "output_type": "stream",
     "text": [
      "iteration:  0 : Cost: 0.6931471805599454\n",
      "iteration:  1000 : Cost: 0.6364219205819578\n",
      "iteration:  2000 : Cost: 0.5986380097330398\n",
      "iteration:  3000 : Cost: 0.5724020293625568\n",
      "iteration:  4000 : Cost: 0.5534340334586606\n",
      "iteration:  5000 : Cost: 0.5392317210597543\n",
      "iteration:  6000 : Cost: 0.5282802831410036\n",
      "iteration:  7000 : Cost: 0.5196259341095415\n",
      "iteration:  8000 : Cost: 0.5126452731788069\n",
      "iteration:  9000 : Cost: 0.5069168610370617\n",
      "iteration:  10000 : Cost: 0.5021471193559642\n",
      "iteration:  11000 : Cost: 0.49812603820131407\n",
      "iteration:  12000 : Cost: 0.49469981508957594\n",
      "iteration:  13000 : Cost: 0.4917534381166783\n",
      "iteration:  14000 : Cost: 0.48919929310225657\n",
      "iteration:  15000 : Cost: 0.4869695249887669\n",
      "iteration:  16000 : Cost: 0.48501080022571996\n",
      "iteration:  17000 : Cost: 0.48328064131856574\n",
      "iteration:  18000 : Cost: 0.4817448132793329\n",
      "iteration:  19000 : Cost: 0.4803754279540079\n",
      "iteration:  20000 : Cost: 0.47914954728172426\n",
      "iteration:  21000 : Cost: 0.47804813920436695\n",
      "iteration:  22000 : Cost: 0.47705528674968495\n",
      "iteration:  23000 : Cost: 0.4761575815200417\n",
      "iteration:  24000 : Cost: 0.47534365331541084\n",
      "iteration:  25000 : Cost: 0.4746038015193827\n",
      "iteration:  26000 : Cost: 0.4739297034452517\n",
      "iteration:  27000 : Cost: 0.4733141815184224\n",
      "iteration:  28000 : Cost: 0.4727510158954423\n",
      "iteration:  29000 : Cost: 0.47223479250284256\n",
      "iteration:  30000 : Cost: 0.4717607789298923\n",
      "iteration:  31000 : Cost: 0.47132482240477563\n",
      "iteration:  32000 : Cost: 0.4709232654127032\n",
      "iteration:  33000 : Cost: 0.470552875507987\n",
      "iteration:  34000 : Cost: 0.4702107866217686\n",
      "iteration:  35000 : Cost: 0.4698944497377813\n",
      "iteration:  36000 : Cost: 0.46960159124659967\n",
      "iteration:  37000 : Cost: 0.469330177627751\n",
      "iteration:  38000 : Cost: 0.4690783853732612\n",
      "iteration:  39000 : Cost: 0.46884457527357204\n",
      "iteration:  40000 : Cost: 0.4686272703506363\n",
      "iteration:  41000 : Cost: 0.46842513685328896\n",
      "iteration:  42000 : Cost: 0.46823696783420543\n",
      "iteration:  43000 : Cost: 0.4680616689115804\n",
      "iteration:  44000 : Cost: 0.46789824588643264\n",
      "iteration:  45000 : Cost: 0.46774579394151167\n",
      "iteration:  46000 : Cost: 0.46760348819274494\n",
      "iteration:  47000 : Cost: 0.4674705754010289\n",
      "iteration:  48000 : Cost: 0.4673463666825319\n",
      "iteration:  49000 : Cost: 0.46723023108078315\n",
      "iteration:  50000 : Cost: 0.4671215898846479\n",
      "iteration:  51000 : Cost: 0.4670199115936551\n",
      "iteration:  52000 : Cost: 0.46692470744663833\n",
      "iteration:  53000 : Cost: 0.46683552744182444\n",
      "iteration:  54000 : Cost: 0.4667519567867283\n",
      "iteration:  55000 : Cost: 0.46667361272485625\n",
      "iteration:  56000 : Cost: 0.4666001416935196\n",
      "iteration:  57000 : Cost: 0.46653121677326526\n",
      "iteration:  58000 : Cost: 0.4664665353947067\n",
      "iteration:  59000 : Cost: 0.46640581727303587\n",
      "iteration:  60000 : Cost: 0.46634880254435196\n",
      "iteration:  61000 : Cost: 0.4662952500812393\n",
      "iteration:  62000 : Cost: 0.4662449359678668\n",
      "iteration:  63000 : Cost: 0.46619765211731945\n",
      "iteration:  64000 : Cost: 0.46615320501599017\n",
      "iteration:  65000 : Cost: 0.4661114145816749\n",
      "iteration:  66000 : Cost: 0.4660721131236044\n",
      "iteration:  67000 : Cost: 0.46603514439401983\n",
      "iteration:  68000 : Cost: 0.46600036272208756\n",
      "iteration:  69000 : Cost: 0.465967632222007\n",
      "iteration:  70000 : Cost: 0.46593682606806397\n",
      "iteration:  71000 : Cost: 0.4659078258301911\n",
      "iteration:  72000 : Cost: 0.4658805208642904\n",
      "iteration:  73000 : Cost: 0.4658548077521954\n",
      "iteration:  74000 : Cost: 0.4658305897866872\n",
      "iteration:  75000 : Cost: 0.46580777649746274\n",
      "iteration:  76000 : Cost: 0.4657862832143706\n",
      "iteration:  77000 : Cost: 0.4657660306646089\n",
      "iteration:  78000 : Cost: 0.4657469446009072\n",
      "iteration:  79000 : Cost: 0.4657289554580128\n",
      "iteration:  80000 : Cost: 0.4657119980350606\n",
      "iteration:  81000 : Cost: 0.4656960112016408\n",
      "iteration:  82000 : Cost: 0.4656809376255846\n",
      "iteration:  83000 : Cost: 0.46566672352067906\n",
      "iteration:  84000 : Cost: 0.46565331841268187\n",
      "iteration:  85000 : Cost: 0.4656406749221597\n",
      "iteration:  86000 : Cost: 0.4656287485628098\n",
      "iteration:  87000 : Cost: 0.4656174975540388\n",
      "iteration:  88000 : Cost: 0.4656068826466855\n",
      "iteration:  89000 : Cost: 0.46559686696087155\n",
      "iteration:  90000 : Cost: 0.4655874158350476\n",
      "iteration:  91000 : Cost: 0.4655784966853896\n",
      "iteration:  92000 : Cost: 0.46557007887476254\n",
      "iteration:  93000 : Cost: 0.46556213359054266\n",
      "iteration:  94000 : Cost: 0.4655546337306414\n",
      "iteration:  95000 : Cost: 0.46554755379713236\n",
      "iteration:  96000 : Cost: 0.4655408697969287\n",
      "iteration:  97000 : Cost: 0.46553455914900355\n",
      "iteration:  98000 : Cost: 0.4655286005976863\n",
      "iteration:  99000 : Cost: 0.4655229741316051\n"
     ]
    }
   ],
   "source": [
    "weights_validate, bias_validate, cost_validate = logistic_regression(X_validate, Y_validate, alpha = alpha, epoch = epoch)"
   ]
  },
  {
   "cell_type": "code",
   "execution_count": 42,
   "id": "0650b2cf",
   "metadata": {},
   "outputs": [
    {
     "data": {
      "image/png": "[encoded data removed]",
      "text/plain": [
       "<Figure size 432x288 with 1 Axes>"
      ]
     },
     "metadata": {
      "needs_background": "light"
     },
     "output_type": "display_data"
    }
   ],
   "source": [
    "plt.plot(np.arange(epoch), cost_validate)\n",
    "plt.show()"
   ]
  },
  {
   "cell_type": "code",
   "execution_count": 353,
   "id": "34fb09b6",
   "metadata": {},
   "outputs": [
    {
     "name": "stdout",
     "output_type": "stream",
     "text": [
      "------------------------------- Cost Comparisons -----------------------------------\n"
     ]
    }
   ],
   "source": [
    "print(\"------------------------------- Cost Comparisons -----------------------------------\")"
   ]
  },
  {
   "cell_type": "code",
   "execution_count": 43,
   "id": "4795b5e8",
   "metadata": {},
   "outputs": [
    {
     "data": {
      "image/png": "[encoded data removed]",
      "text/plain": [
       "<Figure size 432x288 with 1 Axes>"
      ]
     },
     "metadata": {
      "needs_background": "light"
     },
     "output_type": "display_data"
    }
   ],
   "source": [
    "plt.title('Cost_Train vs Cost_Test')\n",
    "plt.plot(np.arange(epoch), cost_train, label='Cost_Train')\n",
    "plt.plot(np.arange(epoch), cost_test, label='Cost_Test')\n",
    "plt.legend(loc='upper right')\n",
    "plt.show()"
   ]
  },
  {
   "cell_type": "code",
   "execution_count": 44,
   "id": "c4f21d2c",
   "metadata": {},
   "outputs": [
    {
     "data": {
      "image/png": "[encoded data removed]",
      "text/plain": [
       "<Figure size 432x288 with 1 Axes>"
      ]
     },
     "metadata": {
      "needs_background": "light"
     },
     "output_type": "display_data"
    }
   ],
   "source": [
    "plt.title('Cost_Train vs Cost_Validate')\n",
    "plt.plot(np.arange(epoch), cost_train, label='Cost_Train')\n",
    "plt.plot(np.arange(epoch), cost_validate, label='Cost_Validate')\n",
    "plt.legend(loc='upper right')\n",
    "plt.show()"
   ]
  },
  {
   "cell_type": "code",
   "execution_count": 45,
   "id": "76e97006",
   "metadata": {},
   "outputs": [
    {
     "data": {
      "image/png": "[encoded data removed]",
      "text/plain": [
       "<Figure size 432x288 with 1 Axes>"
      ]
     },
     "metadata": {
      "needs_background": "light"
     },
     "output_type": "display_data"
    }
   ],
   "source": [
    "plt.title('Cost_Test vs Cost_Validate')\n",
    "plt.plot(np.arange(epoch), cost_test, label='Cost_Test')\n",
    "plt.plot(np.arange(epoch), cost_validate, label='Cost_Validate')\n",
    "plt.legend(loc='upper right')\n",
    "plt.show()"
   ]
  },
  {
   "cell_type": "code",
   "execution_count": 46,
   "id": "3f9b01ac",
   "metadata": {},
   "outputs": [],
   "source": [
    "def accuracy_computation(activation, Y):\n",
    "    return (1 - np.sum(np.absolute(activation - Y))/Y.shape[1])*100"
   ]
  },
  {
   "cell_type": "code",
   "execution_count": 47,
   "id": "560d7f13",
   "metadata": {},
   "outputs": [],
   "source": [
    "threshold = 0.5\n",
    "def find_accuracy(X, Y, weights, bias):\n",
    "    m = X.shape[1]\n",
    "    Z = z_function(weights, X, bias)\n",
    "    activation = sigmoid(Z)    \n",
    "    cost = cost_func(m, Y, activation)  \n",
    "    activation = activation > threshold  \n",
    "    activation = np.array(activation, dtype = 'int64')  \n",
    "    acc = accuracy_computation(activation, Y)\n",
    "    return cost, acc"
   ]
  },
  {
   "cell_type": "code",
   "execution_count": 48,
   "id": "785187b4",
   "metadata": {},
   "outputs": [],
   "source": [
    "def accuracy_vectors(X, Y, weights, bias):\n",
    "    accuracy_vectors = []\n",
    "    for i in range(epoch):\n",
    "        m = X.shape[1]\n",
    "        Z = z_function(weights, X, bias)\n",
    "        activation = sigmoid(Z)    \n",
    "        cost = cost_func(m, Y, activation)  \n",
    "        activation = activation > threshold  \n",
    "        activation = np.array(activation, dtype = 'int64')  \n",
    "        acc = accuracy_computation(activation, Y)\n",
    "        accuracy_vectors.append(acc)\n",
    "    return accuracy_vectors"
   ]
  },
  {
   "cell_type": "code",
   "execution_count": 49,
   "id": "6a1553f8",
   "metadata": {},
   "outputs": [],
   "source": [
    "accuracy_vectors_train = accuracy_vectors(X_train, Y_train, weights_train, bias_train)\n",
    "accuracy_vectors_test = accuracy_vectors(X_test, Y_test, weights_test, bias_test)\n",
    "accuracy_vectors_validate = accuracy_vectors(X_validate, Y_validate, weights_validate, bias_validate)\n"
   ]
  },
  {
   "cell_type": "code",
   "execution_count": 50,
   "id": "5c48e51d",
   "metadata": {},
   "outputs": [],
   "source": [
    "#plt.plot(np.arange(accuracy_vectors_test), accuracy_vectors_train)\n",
    "#plt.show()"
   ]
  },
  {
   "cell_type": "code",
   "execution_count": 55,
   "id": "658a1813",
   "metadata": {},
   "outputs": [],
   "source": [
    "cost_train, accuracy_train = find_accuracy(X_train, Y_train, weights_train, bias_train)\n",
    "cost_test, accuracy_test = find_accuracy(X_test, Y_test, weights_test, bias_test)\n",
    "cost_validate, accuracy_validate = find_accuracy(X_train, Y_train, weights_validate, bias_validate)"
   ]
  },
  {
   "cell_type": "code",
   "execution_count": 56,
   "id": "56277394",
   "metadata": {},
   "outputs": [
    {
     "name": "stdout",
     "output_type": "stream",
     "text": [
      "0.4559982574617298 79.56521739130434\n"
     ]
    }
   ],
   "source": [
    "find_accuracy(X_train, Y_train, weights_train, bias_train)\n",
    "print(cost_train,accuracy_train )"
   ]
  },
  {
   "cell_type": "code",
   "execution_count": 57,
   "id": "1b610407",
   "metadata": {},
   "outputs": [
    {
     "name": "stdout",
     "output_type": "stream",
     "text": [
      "0.4843011718188546 77.82608695652173\n"
     ]
    }
   ],
   "source": [
    "find_accuracy(X_validate, Y_validate, weights_validate, bias_validate)\n",
    "print(cost_validate,accuracy_validate )"
   ]
  },
  {
   "cell_type": "code",
   "execution_count": 58,
   "id": "be5e3019",
   "metadata": {},
   "outputs": [
    {
     "name": "stdout",
     "output_type": "stream",
     "text": [
      "0.4609020035917517 78.57142857142857\n"
     ]
    }
   ],
   "source": [
    "find_accuracy(X_test, Y_test, weights_test, bias_test)\n",
    "print(cost_test,accuracy_test )"
   ]
  },
  {
   "cell_type": "code",
   "execution_count": null,
   "id": "46c11099",
   "metadata": {},
   "outputs": [],
   "source": []
  }
 ],
 "metadata": {
  "kernelspec": {
   "display_name": "Python 3",
   "language": "python",
   "name": "python3"
  },
  "language_info": {
   "codemirror_mode": {
    "name": "ipython",
    "version": 3
   },
   "file_extension": ".py",
   "mimetype": "text/x-python",
   "name": "python",
   "nbconvert_exporter": "python",
   "pygments_lexer": "ipython3",
   "version": "3.8.8"
  }
 },
 "nbformat": 4,
 "nbformat_minor": 5
}
